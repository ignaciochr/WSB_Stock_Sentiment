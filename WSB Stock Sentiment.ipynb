{
 "cells": [
  {
   "cell_type": "markdown",
   "metadata": {},
   "source": [
    "<img src=\"https://pbs.twimg.com/profile_images/1354934581900816394/g0_FLaCP_400x400.jpg\"\n",
    "     alt=\"Markdown Monster icon\"\n",
    "     style=\"float: left; margin-right: 10px; width:160px\" />"
   ]
  },
  {
   "cell_type": "markdown",
   "metadata": {},
   "source": [
    "# r/WallStreetBets Stock Sentiment\n",
    "\n",
    "**Project by**: Ignacio Chavarria (@ignacio_chr | www.linkedin.com/in/ignacio-chavarria)\n",
    "\n",
    "This script helps you:\n",
    " - **Find the top X submissions and Y comments for a set of tickers in the past day, week, month, year, or all time.** In this example we are using the top 50 submissions and the top 1000 comments per ticker in the past day. You can easily edit this in the script.\n",
    " - **Assess the sentiment of those submissions and comments.** In this example, for each submission and comment, we are assesing the sentiment based on whether the text contains words related to \"buy\", \"hold\" or \"sell\".\n",
    " - **Observe the leading sentiment for each stock, based on user comentary on a Reddit subreddit.** In this example, we are using r/WallStreetBets\n",
    " \n",
    "*Disclaimer: This script is not meant to be used for trading.*"
   ]
  },
  {
   "cell_type": "markdown",
   "metadata": {},
   "source": [
    "#### **Notebook sections**:\n",
    "1. [Main Inputs](#Main-Inputs)\n",
    "2. [Stock sentiment, by keyword frequencies](#Stock-sentiment,-by-keyword-frequencies)\n",
    "3. [Stock sentiment, by keywords and upvotes](#Stock-sentiment,-by-keywords-and-upvotes)\n",
    "4. [Top buy, hold, and sell comments](#Top-buy,-hold,-and-sell-comments)\n",
    "5. [Top 3 submissions](#Top-3-submissions)"
   ]
  },
  {
   "cell_type": "markdown",
   "metadata": {},
   "source": [
    "# Main Inputs\n",
    "This section shows the script's main inputs, which you can edit below to create a customized analysis."
   ]
  },
  {
   "cell_type": "code",
   "execution_count": 111,
   "metadata": {},
   "outputs": [],
   "source": [
    "reddit_client_id=\"\"\n",
    "reddit_client_secret=\"\"\n",
    "reddit_user_agent=\"\""
   ]
  },
  {
   "cell_type": "code",
   "execution_count": 112,
   "metadata": {},
   "outputs": [],
   "source": [
    "tickers = ['GME','AMC']"
   ]
  },
  {
   "cell_type": "code",
   "execution_count": 113,
   "metadata": {},
   "outputs": [],
   "source": [
    "submissions_per_ticker = 50"
   ]
  },
  {
   "cell_type": "code",
   "execution_count": 114,
   "metadata": {},
   "outputs": [],
   "source": [
    "comments_per_submission = 20"
   ]
  },
  {
   "cell_type": "code",
   "execution_count": 115,
   "metadata": {},
   "outputs": [],
   "source": [
    "subreddit_name = 'wallstreetbets'"
   ]
  },
  {
   "cell_type": "code",
   "execution_count": 116,
   "metadata": {},
   "outputs": [],
   "source": [
    "bullish_terms = ['buy','buying','bull','bullish']\n",
    "bearish_terms = ['sell','selling','dump','bear','bearish']\n",
    "neutral_terms = ['hold','holding','hodl','diamond','💎']"
   ]
  },
  {
   "cell_type": "markdown",
   "metadata": {},
   "source": [
    "# Stock sentiment, by keyword frequencies\n",
    "The output of this first section will be 1 graph for every ticker, containing a bar chart with 3 columns representing the count of comments with \"Buy\", \"Hold\" and, \"Sell\" sentiment."
   ]
  },
  {
   "cell_type": "code",
   "execution_count": 117,
   "metadata": {},
   "outputs": [
    {
     "name": "stdout",
     "output_type": "stream",
     "text": [
      "Requirement already satisfied: praw in /anaconda3/lib/python3.7/site-packages (7.1.0)\n",
      "Requirement already satisfied: prawcore<2.0,>=1.3.0 in /anaconda3/lib/python3.7/site-packages (from praw) (1.5.0)\n",
      "Requirement already satisfied: websocket-client>=0.54.0 in /anaconda3/lib/python3.7/site-packages (from praw) (0.57.0)\n",
      "Requirement already satisfied: update-checker>=0.17 in /anaconda3/lib/python3.7/site-packages (from praw) (0.18.0)\n",
      "Requirement already satisfied: requests<3.0,>=2.6.0 in /anaconda3/lib/python3.7/site-packages (from prawcore<2.0,>=1.3.0->praw) (2.21.0)\n",
      "Requirement already satisfied: six in /anaconda3/lib/python3.7/site-packages (from websocket-client>=0.54.0->praw) (1.12.0)\n",
      "Requirement already satisfied: urllib3<1.25,>=1.21.1 in /anaconda3/lib/python3.7/site-packages (from requests<3.0,>=2.6.0->prawcore<2.0,>=1.3.0->praw) (1.24.1)\n",
      "Requirement already satisfied: idna<2.9,>=2.5 in /anaconda3/lib/python3.7/site-packages (from requests<3.0,>=2.6.0->prawcore<2.0,>=1.3.0->praw) (2.8)\n",
      "Requirement already satisfied: chardet<3.1.0,>=3.0.2 in /anaconda3/lib/python3.7/site-packages (from requests<3.0,>=2.6.0->prawcore<2.0,>=1.3.0->praw) (3.0.4)\n",
      "Requirement already satisfied: certifi>=2017.4.17 in /anaconda3/lib/python3.7/site-packages (from requests<3.0,>=2.6.0->prawcore<2.0,>=1.3.0->praw) (2019.3.9)\n",
      "Note: you may need to restart the kernel to use updated packages.\n"
     ]
    }
   ],
   "source": [
    "pip install praw"
   ]
  },
  {
   "cell_type": "code",
   "execution_count": 118,
   "metadata": {},
   "outputs": [
    {
     "name": "stdout",
     "output_type": "stream",
     "text": [
      "Requirement already satisfied: yfinance in /anaconda3/lib/python3.7/site-packages (0.1.55)\n",
      "Requirement already satisfied: requests>=2.20 in /anaconda3/lib/python3.7/site-packages (from yfinance) (2.21.0)\n",
      "Requirement already satisfied: pandas>=0.24 in /anaconda3/lib/python3.7/site-packages (from yfinance) (0.24.2)\n",
      "Requirement already satisfied: lxml>=4.5.1 in /anaconda3/lib/python3.7/site-packages (from yfinance) (4.6.2)\n",
      "Requirement already satisfied: multitasking>=0.0.7 in /anaconda3/lib/python3.7/site-packages (from yfinance) (0.0.9)\n",
      "Requirement already satisfied: numpy>=1.15 in /anaconda3/lib/python3.7/site-packages (from yfinance) (1.16.2)\n",
      "Requirement already satisfied: urllib3<1.25,>=1.21.1 in /anaconda3/lib/python3.7/site-packages (from requests>=2.20->yfinance) (1.24.1)\n",
      "Requirement already satisfied: certifi>=2017.4.17 in /anaconda3/lib/python3.7/site-packages (from requests>=2.20->yfinance) (2019.3.9)\n",
      "Requirement already satisfied: chardet<3.1.0,>=3.0.2 in /anaconda3/lib/python3.7/site-packages (from requests>=2.20->yfinance) (3.0.4)\n",
      "Requirement already satisfied: idna<2.9,>=2.5 in /anaconda3/lib/python3.7/site-packages (from requests>=2.20->yfinance) (2.8)\n",
      "Requirement already satisfied: python-dateutil>=2.5.0 in /anaconda3/lib/python3.7/site-packages (from pandas>=0.24->yfinance) (2.8.0)\n",
      "Requirement already satisfied: pytz>=2011k in /anaconda3/lib/python3.7/site-packages (from pandas>=0.24->yfinance) (2018.9)\n",
      "Requirement already satisfied: six>=1.5 in /anaconda3/lib/python3.7/site-packages (from python-dateutil>=2.5.0->pandas>=0.24->yfinance) (1.12.0)\n",
      "Note: you may need to restart the kernel to use updated packages.\n"
     ]
    }
   ],
   "source": [
    "pip install yfinance"
   ]
  },
  {
   "cell_type": "code",
   "execution_count": 119,
   "metadata": {},
   "outputs": [
    {
     "data": {
      "image/png": "[encoded data removed]",
      "text/plain": [
       "<Figure size 1152x360 with 1 Axes>"
      ]
     },
     "metadata": {},
     "output_type": "display_data"
    }
   ],
   "source": [
    "import praw\n",
    "import datetime as dt\n",
    "import pandas as pd\n",
    "from pandas import DataFrame\n",
    "from datetime import datetime\n",
    "import seaborn as sns\n",
    "import matplotlib.pyplot as plt\n",
    "import warnings\n",
    "import yfinance as yf\n",
    "from datetime import date\n",
    "from datetime import datetime, timedelta\n",
    "\n",
    "warnings.filterwarnings('ignore')\n",
    "\n",
    "reddit = praw.Reddit(\n",
    "     client_id=reddit_client_id,\n",
    "     client_secret=reddit_client_secret,\n",
    "     user_agent=reddit_user_agent\n",
    ")\n",
    "\n",
    "subreddit = reddit.subreddit(subreddit_name)\n",
    "\n",
    "top_subs = [subreddit.search([ticker],limit=submissions_per_ticker,time_filter=\"day\",sort=\"top\") for ticker in tickers]\n",
    "\n",
    "topics_dict = { \"ticker\":[],\n",
    "                \"title\":[],\n",
    "                \"score\":[],\n",
    "                \"id\":[], \n",
    "                \"url\":[],\n",
    "                \"comms_num\": [],\n",
    "                \"created\": [],\n",
    "                \"body\":[]}\n",
    "\n",
    "for x in range(len(tickers)):\n",
    "    for submission in top_subs[x]:\n",
    "        topics_dict[\"ticker\"].append(tickers[x])\n",
    "        topics_dict[\"title\"].append(submission.title)\n",
    "        topics_dict[\"score\"].append(submission.score)\n",
    "        topics_dict[\"id\"].append(submission.id)\n",
    "        topics_dict[\"url\"].append(submission.url)\n",
    "        topics_dict[\"comms_num\"].append(submission.num_comments)\n",
    "        topics_dict[\"created\"].append(submission.created)\n",
    "        topics_dict[\"body\"].append(submission.selftext)\n",
    "        \n",
    "topics_data = pd.DataFrame(topics_dict)\n",
    "\n",
    "def get_date(created):\n",
    "    return dt.datetime.fromtimestamp(created)\n",
    "\n",
    "_timestamp = topics_data[\"created\"].apply(get_date)\n",
    "topics_data = topics_data.assign(timestamp = _timestamp)\n",
    "\n",
    "comments_dict = { \"ticker\":[],\n",
    "                  \"body\":[],\n",
    "                  \"score\":[], \n",
    "                  \"created\": [],\n",
    "                  \"submission\": [],\n",
    "                  \"id\":[]}\n",
    "\n",
    "for x in range(len(topics_dict[\"id\"])):\n",
    "    \n",
    "    sub = reddit.submission(topics_dict[\"id\"][x])\n",
    "    \n",
    "    sub.comment_sort = \"top\"\n",
    "    sub.comment_limit = comments_per_submission\n",
    "    sub.comments.replace_more(limit=0)\n",
    "    \n",
    "    for comment in sub.comments.list():\n",
    "        comments_dict['ticker'].append(topics_data['ticker'][x])\n",
    "        comments_dict['score'].append(comment.score)\n",
    "        comments_dict['id'].append(comment.id)\n",
    "        comments_dict['created'].append(comment.created_utc)\n",
    "        comments_dict['body'].append(comment.body)\n",
    "        comments_dict['submission'].append(comment.submission)\n",
    "        \n",
    "df1 = pd.DataFrame(comments_dict)\n",
    "\n",
    "del df1['id']\n",
    "del df1['created']\n",
    "del df1['submission']\n",
    "\n",
    "buy_wrds = bullish_terms\n",
    "sell_wrds = bearish_terms\n",
    "hold_wrds = neutral_terms\n",
    "\n",
    "df1['buy'] = 0\n",
    "df1['hold'] = 0\n",
    "df1['sell'] = 0\n",
    "df1['unique'] = 0\n",
    "\n",
    "df1['body'] = df1['body'].apply(lambda x: x.lower())\n",
    "\n",
    "for n in range(len(df1['body'])):\n",
    "    for wrd in df1['body'][n].split():\n",
    "        if wrd in buy_wrds:\n",
    "            df1['buy'][n] = 1\n",
    "        if wrd in sell_wrds:\n",
    "            df1['sell'][n] = 1\n",
    "        if wrd in hold_wrds:\n",
    "            df1['hold'][n] = 1\n",
    "            \n",
    "for n in range(len(df1['body'])):\n",
    "    df1['unique'][n] = df1['buy'][n].item() + df1['hold'][n].item() + df1['sell'][n].item()\n",
    "    \n",
    "df2 = df1.loc[df1['unique'] == 1].reset_index().drop('index',1).drop('unique',1)\n",
    "\n",
    "df2['sentiment'] = ''\n",
    "\n",
    "for n in range(len(df2['body'])):\n",
    "    if df2['buy'][n] == 1:\n",
    "        df2['sentiment'][n] = 'buy'\n",
    "    elif df2['hold'][n] == 1:\n",
    "        df2['sentiment'][n] = 'hold'\n",
    "    else:\n",
    "        df2['sentiment'][n] = 'sell'\n",
    "\n",
    "df3 = df2.drop(['buy','hold','sell'],1)\n",
    "\n",
    "sns.set(rc={'figure.figsize':(16,5)})\n",
    "ax = sns.countplot(y=\"ticker\", hue=\"sentiment\", hue_order= ['buy','hold','sell'], data=df3, palette='BuPu_r').set_title(\"Stock sentiment, by keyword frequencies\", fontsize=14)"
   ]
  },
  {
   "cell_type": "markdown",
   "metadata": {},
   "source": [
    "# Stock sentiment, by keywords and upvotes\n",
    "The following graphs show, for each ticker, the sum of upvotes for comments with \"buy\", \"hold\", and \"sell\" sentiment."
   ]
  },
  {
   "cell_type": "code",
   "execution_count": 120,
   "metadata": {},
   "outputs": [
    {
     "data": {
      "image/png": "[encoded data removed]",
      "text/plain": [
       "<Figure size 1152x144 with 1 Axes>"
      ]
     },
     "metadata": {},
     "output_type": "display_data"
    },
    {
     "data": {
      "image/png": "[encoded data removed]",
      "text/plain": [
       "<Figure size 1152x144 with 1 Axes>"
      ]
     },
     "metadata": {},
     "output_type": "display_data"
    }
   ],
   "source": [
    "sns.set(rc={'figure.figsize':(16,2)})\n",
    "\n",
    "for ticker in tickers:\n",
    "    df3.loc[df3['ticker'] == ticker].groupby(['ticker','sentiment']).sum().plot(kind=\"barh\").invert_yaxis()"
   ]
  },
  {
   "cell_type": "markdown",
   "metadata": {},
   "source": [
    "# Top buy, hold, and sell comments\n",
    "The comments shown below are the highest upvoted from the last day, for each sentiment category. These comments were posted under submissions that mentioned the desired ticker(s) in either the title or body."
   ]
  },
  {
   "cell_type": "code",
   "execution_count": 132,
   "metadata": {},
   "outputs": [
    {
     "name": "stdout",
     "output_type": "stream",
     "text": [
      "\n",
      "Ticker: GME\n",
      "\n",
      "Top buy comment:\n",
      " the finger snap is robinhood not letting more people buy shares\n",
      "Upvotes:  4120\n",
      "\n",
      "\n",
      "Top sell comment:\n",
      " imagine watching the movie and dfv and micheal bury make millions at the end of the ultimate short squeeze and your dumb ass sold for a loss lol...i’m not selling\n",
      "Upvotes:  1023\n",
      "\n",
      "\n",
      "Top hold comment:\n",
      " everyones got proof every day with this shit. we’ve lost momentum just hold and pray for valhalla.\n",
      "Upvotes:  6831\n",
      "\n",
      "\n",
      "\n",
      "Ticker: AMC\n",
      "\n",
      "Top buy comment:\n",
      " yea people don't realize there was never a squeeze with bb its just a great buy\n",
      "Upvotes:  302\n",
      "\n",
      "\n",
      "Top sell comment:\n",
      " it took me 2 decades to learn how to read, i sure as hell haven't learnt how to sell yet 🚀🚀💎\n",
      "Upvotes:  632\n",
      "\n",
      "\n",
      "Top hold comment:\n",
      " til that covering 40 million shares while there is a shortage of shares decreases the price of a stock by 90%. i will short the fuck out of every thing now. \\n\\nfuck you, im holding\n",
      "Upvotes:  1048\n",
      "\n",
      "\n"
     ]
    }
   ],
   "source": [
    "pd.options.display.max_colwidth = 225\n",
    "\n",
    "for ticker in tickers:\n",
    "    print(\"\\n\" + \"Ticker: \" + ticker + \"\\n\")\n",
    "    for x in ['buy','sell','hold']:\n",
    "        print(\"Top \" + x + \" comment:\")\n",
    "        print(df3.loc[(df3['ticker'] == ticker) & (df3['sentiment'] == x)].sort_values(by='score', ascending=False)[0:1]['body'].to_string(index=False))\n",
    "        print(\"Upvotes: \" + df3.loc[(df3['ticker'] == ticker) & (df3['sentiment'] == x)].sort_values(by='score', ascending=False)[0:1]['score'].to_string(index=False))\n",
    "        print(\"\\n\")"
   ]
  },
  {
   "cell_type": "markdown",
   "metadata": {},
   "source": [
    "# Top 3 submissions per ticker, by upvotes\n",
    "The submissions below are the highest upvoted from the past day. The desired ticker is either mentioned in the title or the body of the submissions."
   ]
  },
  {
   "cell_type": "code",
   "execution_count": 133,
   "metadata": {},
   "outputs": [
    {
     "name": "stdout",
     "output_type": "stream",
     "text": [
      "Ticker: GME\n",
      "\n",
      "Top 3 submissions:\n",
      " WSB: GME Infinity War\n",
      "Upvotes:  58934\n",
      "URL:  https://v.redd.it/h02i6340agg61\n",
      "\n",
      "\n",
      " How I was acting with my boss holding my 100 GME when it peaked at $483\n",
      "Upvotes:  22391\n",
      "URL:  https://v.redd.it/52fwvtpzzgg61\n",
      "\n",
      "\n",
      " Welcome to the battle\n",
      "Upvotes:  19194\n",
      "URL:  https://www.reddit.com/r/wallstreetbets/comments/lg5ew0/welcome_to_the_battle/\n",
      "\n",
      "\n",
      "Ticker: AMC\n",
      "\n",
      "Top 3 submissions:\n",
      " GME and AMC are dead, and here's why.\n",
      "Upvotes:  4589\n",
      "URL:  https://www.reddit.com/r/wallstreetbets/comments/lghuem/gme_and_amc_are_dead_and_heres_why/\n",
      "\n",
      "\n",
      " Starting to think AMC might not go to $420.69\n",
      "Upvotes:  2989\n",
      "URL:  https://www.reddit.com/r/wallstreetbets/comments/lg6nf1/starting_to_think_amc_might_not_go_to_42069/\n",
      "\n",
      "\n",
      " Daddy's DD of the week: $BB\n",
      "Upvotes:  2060\n",
      "URL:  https://www.reddit.com/r/wallstreetbets/comments/lg4gx4/daddys_dd_of_the_week_bb/\n",
      "\n",
      "\n"
     ]
    }
   ],
   "source": [
    "pd.options.display.max_colwidth = 225\n",
    "\n",
    "for ticker in tickers:\n",
    "    print(\"Ticker: \" + ticker + \"\\n\")\n",
    "    print(\"Top 3 submissions:\")\n",
    "    \n",
    "    print(topics_data.loc[(topics_data['ticker'] == ticker)].sort_values(by='score', ascending=False)[0:1]['title'].to_string(index=False))\n",
    "    print(\"Upvotes: \" + topics_data.loc[(topics_data['ticker'] == ticker)].sort_values(by='score', ascending=False)[0:1]['score'].to_string(index=False))\n",
    "    print(\"URL: \" + topics_data.loc[(topics_data['ticker'] == ticker)].sort_values(by='score', ascending=False)[0:1]['url'].to_string(index=False))    \n",
    "    print(\"\\n\")\n",
    "    \n",
    "    print(topics_data.loc[(topics_data['ticker'] == ticker)].sort_values(by='score', ascending=False)[1:2]['title'].to_string(index=False))\n",
    "    print(\"Upvotes: \" + topics_data.loc[(topics_data['ticker'] == ticker)].sort_values(by='score', ascending=False)[1:2]['score'].to_string(index=False))\n",
    "    print(\"URL: \" + topics_data.loc[(topics_data['ticker'] == ticker)].sort_values(by='score', ascending=False)[1:2]['url'].to_string(index=False))    \n",
    "    print(\"\\n\")\n",
    "    \n",
    "    print(topics_data.loc[(topics_data['ticker'] == ticker)].sort_values(by='score', ascending=False)[2:3]['title'].to_string(index=False))\n",
    "    print(\"Upvotes: \" + topics_data.loc[(topics_data['ticker'] == ticker)].sort_values(by='score', ascending=False)[2:3]['score'].to_string(index=False))\n",
    "    print(\"URL: \" + topics_data.loc[(topics_data['ticker'] == ticker)].sort_values(by='score', ascending=False)[2:3]['url'].to_string(index=False))    \n",
    "    print(\"\\n\")"
   ]
  }
 ],
 "metadata": {
  "kernelspec": {
   "display_name": "Python 3",
   "language": "python",
   "name": "python3"
  },
  "language_info": {
   "codemirror_mode": {
    "name": "ipython",
    "version": 3
   },
   "file_extension": ".py",
   "mimetype": "text/x-python",
   "name": "python",
   "nbconvert_exporter": "python",
   "pygments_lexer": "ipython3",
   "version": "3.7.3"
  }
 },
 "nbformat": 4,
 "nbformat_minor": 2
}
